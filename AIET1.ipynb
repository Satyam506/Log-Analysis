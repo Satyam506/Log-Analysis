{
  "nbformat": 4,
  "nbformat_minor": 0,
  "metadata": {
    "colab": {
      "name": "Untitled0.ipynb",
      "provenance": [],
      "authorship_tag": "ABX9TyPiCu9y9y4J6qxElfH1Ckm7",
      "include_colab_link": true
    },
    "kernelspec": {
      "name": "python3",
      "display_name": "Python 3"
    }
  },
  "cells": [
    {
      "cell_type": "markdown",
      "metadata": {
        "id": "view-in-github",
        "colab_type": "text"
      },
      "source": [
        "<a href=\"https://colab.research.google.com/github/Satyam506/Log-Analysis/blob/master/AIET1.ipynb\" target=\"_parent\"><img src=\"https://colab.research.google.com/assets/colab-badge.svg\" alt=\"Open In Colab\"/></a>"
      ]
    },
    {
      "cell_type": "code",
      "metadata": {
        "id": "FAQnak3oVNfQ",
        "colab_type": "code",
        "colab": {}
      },
      "source": [
        "f = open (\"data.txt\", \"w\")\n",
        "f.write(\"hello all\\n welcome to AIET\")\n",
        "f.write(\"\\n Welcome to TS\")\n",
        "li=[\"\\nhello\",\"collegebook\"];\n",
        "f.writelines(li)\n",
        "f.close()"
      ],
      "execution_count": 0,
      "outputs": []
    }
  ]
}